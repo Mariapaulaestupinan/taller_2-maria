{
 "cells": [
  {
   "cell_type": "markdown",
   "id": "fa66a9c9",
   "metadata": {
    "papermill": {
     "duration": 0.014153,
     "end_time": "2023-04-29T13:29:31.248114",
     "exception": false,
     "start_time": "2023-04-29T13:29:31.233961",
     "status": "completed"
    },
    "tags": []
   },
   "source": [
    "# Analítica computacional para la toma de decisiones\n",
    "\n",
    "Departamento de Ingeniería Industrial\n",
    "\n",
    "Universidad de los Andes"
   ]
  },
  {
   "cell_type": "markdown",
   "id": "83f39106",
   "metadata": {},
   "source": [
    "## Exploración de datos en python"
   ]
  },
  {
   "cell_type": "markdown",
   "id": "f9418b2a",
   "metadata": {
    "papermill": {
     "duration": 0.012662,
     "end_time": "2023-04-29T13:29:31.273772",
     "exception": false,
     "start_time": "2023-04-29T13:29:31.261110",
     "status": "completed"
    },
    "tags": []
   },
   "source": [
    "### Importar Libraries"
   ]
  },
  {
   "cell_type": "code",
   "execution_count": 1,
   "id": "f98d0106",
   "metadata": {
    "execution": {
     "iopub.execute_input": "2023-04-29T13:29:31.302138Z",
     "iopub.status.busy": "2023-04-29T13:29:31.301405Z",
     "iopub.status.idle": "2023-04-29T13:29:33.164112Z",
     "shell.execute_reply": "2023-04-29T13:29:33.162399Z"
    },
    "papermill": {
     "duration": 1.880783,
     "end_time": "2023-04-29T13:29:33.167438",
     "exception": false,
     "start_time": "2023-04-29T13:29:31.286655",
     "status": "completed"
    },
    "tags": []
   },
   "outputs": [],
   "source": [
    "import numpy as np\n",
    "import pandas as pd"
   ]
  },
  {
   "cell_type": "markdown",
   "id": "65f164b0",
   "metadata": {
    "papermill": {
     "duration": 0.013005,
     "end_time": "2023-04-29T13:29:33.195383",
     "exception": false,
     "start_time": "2023-04-29T13:29:33.182378",
     "status": "completed"
    },
    "tags": []
   },
   "source": [
    "### Importar Dataset"
   ]
  },
  {
   "cell_type": "code",
   "execution_count": 4,
   "id": "a9a7ce94",
   "metadata": {},
   "outputs": [],
   "source": [
    "df = pd.read_csv('.\\\\BankChurn (2).csv')\n"
   ]
  },
  {
   "cell_type": "code",
   "execution_count": 5,
   "id": "159cc7e7",
   "metadata": {},
   "outputs": [
    {
     "data": {
      "text/plain": [
       "(10127, 20)"
      ]
     },
     "execution_count": 5,
     "metadata": {},
     "output_type": "execute_result"
    }
   ],
   "source": [
    "df.shape"
   ]
  },
  {
   "cell_type": "code",
   "execution_count": 6,
   "id": "b3afe95d",
   "metadata": {},
   "outputs": [
    {
     "data": {
      "text/html": [
       "<div>\n",
       "<style scoped>\n",
       "    .dataframe tbody tr th:only-of-type {\n",
       "        vertical-align: middle;\n",
       "    }\n",
       "\n",
       "    .dataframe tbody tr th {\n",
       "        vertical-align: top;\n",
       "    }\n",
       "\n",
       "    .dataframe thead th {\n",
       "        text-align: right;\n",
       "    }\n",
       "</style>\n",
       "<table border=\"1\" class=\"dataframe\">\n",
       "  <thead>\n",
       "    <tr style=\"text-align: right;\">\n",
       "      <th></th>\n",
       "      <th>Attrition_Flag</th>\n",
       "      <th>Customer_Age</th>\n",
       "      <th>Gender</th>\n",
       "      <th>Dependent_count</th>\n",
       "      <th>Education_Level</th>\n",
       "      <th>Marital_Status</th>\n",
       "      <th>Income_Category</th>\n",
       "      <th>Card_Category</th>\n",
       "      <th>Months_on_book</th>\n",
       "      <th>Total_Relationship_Count</th>\n",
       "      <th>Months_Inactive_12_mon</th>\n",
       "      <th>Contacts_Count_12_mon</th>\n",
       "      <th>Credit_Limit</th>\n",
       "      <th>Total_Revolving_Bal</th>\n",
       "      <th>Avg_Open_To_Buy</th>\n",
       "      <th>Total_Amt_Chng_Q4_Q1</th>\n",
       "      <th>Total_Trans_Amt</th>\n",
       "      <th>Total_Trans_Ct</th>\n",
       "      <th>Total_Ct_Chng_Q4_Q1</th>\n",
       "      <th>Avg_Utilization_Ratio</th>\n",
       "    </tr>\n",
       "  </thead>\n",
       "  <tbody>\n",
       "    <tr>\n",
       "      <th>0</th>\n",
       "      <td>Existing Customer</td>\n",
       "      <td>45</td>\n",
       "      <td>M</td>\n",
       "      <td>3</td>\n",
       "      <td>High School</td>\n",
       "      <td>Married</td>\n",
       "      <td>$60K - $80K</td>\n",
       "      <td>Blue</td>\n",
       "      <td>39</td>\n",
       "      <td>5</td>\n",
       "      <td>1</td>\n",
       "      <td>3</td>\n",
       "      <td>12691.0</td>\n",
       "      <td>777</td>\n",
       "      <td>11914.0</td>\n",
       "      <td>1.335</td>\n",
       "      <td>1144</td>\n",
       "      <td>42</td>\n",
       "      <td>1.625</td>\n",
       "      <td>0.061</td>\n",
       "    </tr>\n",
       "    <tr>\n",
       "      <th>1</th>\n",
       "      <td>Existing Customer</td>\n",
       "      <td>49</td>\n",
       "      <td>F</td>\n",
       "      <td>5</td>\n",
       "      <td>Graduate</td>\n",
       "      <td>Single</td>\n",
       "      <td>Less than $40K</td>\n",
       "      <td>Blue</td>\n",
       "      <td>44</td>\n",
       "      <td>6</td>\n",
       "      <td>1</td>\n",
       "      <td>2</td>\n",
       "      <td>8256.0</td>\n",
       "      <td>864</td>\n",
       "      <td>7392.0</td>\n",
       "      <td>1.541</td>\n",
       "      <td>1291</td>\n",
       "      <td>33</td>\n",
       "      <td>3.714</td>\n",
       "      <td>0.105</td>\n",
       "    </tr>\n",
       "    <tr>\n",
       "      <th>2</th>\n",
       "      <td>Existing Customer</td>\n",
       "      <td>51</td>\n",
       "      <td>M</td>\n",
       "      <td>3</td>\n",
       "      <td>Graduate</td>\n",
       "      <td>Married</td>\n",
       "      <td>$80K - $120K</td>\n",
       "      <td>Blue</td>\n",
       "      <td>36</td>\n",
       "      <td>4</td>\n",
       "      <td>1</td>\n",
       "      <td>0</td>\n",
       "      <td>3418.0</td>\n",
       "      <td>0</td>\n",
       "      <td>3418.0</td>\n",
       "      <td>2.594</td>\n",
       "      <td>1887</td>\n",
       "      <td>20</td>\n",
       "      <td>2.333</td>\n",
       "      <td>0.000</td>\n",
       "    </tr>\n",
       "    <tr>\n",
       "      <th>3</th>\n",
       "      <td>Existing Customer</td>\n",
       "      <td>40</td>\n",
       "      <td>F</td>\n",
       "      <td>4</td>\n",
       "      <td>High School</td>\n",
       "      <td>Unknown</td>\n",
       "      <td>Less than $40K</td>\n",
       "      <td>Blue</td>\n",
       "      <td>34</td>\n",
       "      <td>3</td>\n",
       "      <td>4</td>\n",
       "      <td>1</td>\n",
       "      <td>3313.0</td>\n",
       "      <td>2517</td>\n",
       "      <td>796.0</td>\n",
       "      <td>1.405</td>\n",
       "      <td>1171</td>\n",
       "      <td>20</td>\n",
       "      <td>2.333</td>\n",
       "      <td>0.760</td>\n",
       "    </tr>\n",
       "    <tr>\n",
       "      <th>4</th>\n",
       "      <td>Existing Customer</td>\n",
       "      <td>40</td>\n",
       "      <td>M</td>\n",
       "      <td>3</td>\n",
       "      <td>Uneducated</td>\n",
       "      <td>Married</td>\n",
       "      <td>$60K - $80K</td>\n",
       "      <td>Blue</td>\n",
       "      <td>21</td>\n",
       "      <td>5</td>\n",
       "      <td>1</td>\n",
       "      <td>0</td>\n",
       "      <td>4716.0</td>\n",
       "      <td>0</td>\n",
       "      <td>4716.0</td>\n",
       "      <td>2.175</td>\n",
       "      <td>816</td>\n",
       "      <td>28</td>\n",
       "      <td>2.500</td>\n",
       "      <td>0.000</td>\n",
       "    </tr>\n",
       "  </tbody>\n",
       "</table>\n",
       "</div>"
      ],
      "text/plain": [
       "      Attrition_Flag  Customer_Age Gender  Dependent_count Education_Level  \\\n",
       "0  Existing Customer            45      M                3     High School   \n",
       "1  Existing Customer            49      F                5        Graduate   \n",
       "2  Existing Customer            51      M                3        Graduate   \n",
       "3  Existing Customer            40      F                4     High School   \n",
       "4  Existing Customer            40      M                3      Uneducated   \n",
       "\n",
       "  Marital_Status Income_Category Card_Category  Months_on_book  \\\n",
       "0        Married     $60K - $80K          Blue              39   \n",
       "1         Single  Less than $40K          Blue              44   \n",
       "2        Married    $80K - $120K          Blue              36   \n",
       "3        Unknown  Less than $40K          Blue              34   \n",
       "4        Married     $60K - $80K          Blue              21   \n",
       "\n",
       "   Total_Relationship_Count  Months_Inactive_12_mon  Contacts_Count_12_mon  \\\n",
       "0                         5                       1                      3   \n",
       "1                         6                       1                      2   \n",
       "2                         4                       1                      0   \n",
       "3                         3                       4                      1   \n",
       "4                         5                       1                      0   \n",
       "\n",
       "   Credit_Limit  Total_Revolving_Bal  Avg_Open_To_Buy  Total_Amt_Chng_Q4_Q1  \\\n",
       "0       12691.0                  777          11914.0                 1.335   \n",
       "1        8256.0                  864           7392.0                 1.541   \n",
       "2        3418.0                    0           3418.0                 2.594   \n",
       "3        3313.0                 2517            796.0                 1.405   \n",
       "4        4716.0                    0           4716.0                 2.175   \n",
       "\n",
       "   Total_Trans_Amt  Total_Trans_Ct  Total_Ct_Chng_Q4_Q1  Avg_Utilization_Ratio  \n",
       "0             1144              42                1.625                  0.061  \n",
       "1             1291              33                3.714                  0.105  \n",
       "2             1887              20                2.333                  0.000  \n",
       "3             1171              20                2.333                  0.760  \n",
       "4              816              28                2.500                  0.000  "
      ]
     },
     "execution_count": 6,
     "metadata": {},
     "output_type": "execute_result"
    }
   ],
   "source": [
    "df.head()"
   ]
  },
  {
   "cell_type": "code",
   "execution_count": 7,
   "id": "5b81bf5f",
   "metadata": {},
   "outputs": [
    {
     "data": {
      "text/plain": [
       "array(['Married', 'Single', 'Unknown', 'Divorced'], dtype=object)"
      ]
     },
     "execution_count": 7,
     "metadata": {},
     "output_type": "execute_result"
    }
   ],
   "source": [
    "df[\"Marital_Status\"].unique()"
   ]
  },
  {
   "cell_type": "code",
   "execution_count": 8,
   "id": "96f27a7e",
   "metadata": {},
   "outputs": [
    {
     "data": {
      "text/html": [
       "<div>\n",
       "<style scoped>\n",
       "    .dataframe tbody tr th:only-of-type {\n",
       "        vertical-align: middle;\n",
       "    }\n",
       "\n",
       "    .dataframe tbody tr th {\n",
       "        vertical-align: top;\n",
       "    }\n",
       "\n",
       "    .dataframe thead th {\n",
       "        text-align: right;\n",
       "    }\n",
       "</style>\n",
       "<table border=\"1\" class=\"dataframe\">\n",
       "  <thead>\n",
       "    <tr style=\"text-align: right;\">\n",
       "      <th></th>\n",
       "      <th>Customer_Age</th>\n",
       "      <th>Gender</th>\n",
       "      <th>Dependent_count</th>\n",
       "      <th>Education_Level</th>\n",
       "      <th>Marital_Status</th>\n",
       "      <th>Income_Category</th>\n",
       "      <th>Card_Category</th>\n",
       "      <th>Months_on_book</th>\n",
       "      <th>Total_Relationship_Count</th>\n",
       "      <th>Months_Inactive_12_mon</th>\n",
       "      <th>Contacts_Count_12_mon</th>\n",
       "      <th>Credit_Limit</th>\n",
       "      <th>Total_Revolving_Bal</th>\n",
       "      <th>Avg_Open_To_Buy</th>\n",
       "      <th>Total_Amt_Chng_Q4_Q1</th>\n",
       "      <th>Total_Trans_Amt</th>\n",
       "      <th>Total_Trans_Ct</th>\n",
       "      <th>Total_Ct_Chng_Q4_Q1</th>\n",
       "      <th>Avg_Utilization_Ratio</th>\n",
       "    </tr>\n",
       "    <tr>\n",
       "      <th>Attrition_Flag</th>\n",
       "      <th></th>\n",
       "      <th></th>\n",
       "      <th></th>\n",
       "      <th></th>\n",
       "      <th></th>\n",
       "      <th></th>\n",
       "      <th></th>\n",
       "      <th></th>\n",
       "      <th></th>\n",
       "      <th></th>\n",
       "      <th></th>\n",
       "      <th></th>\n",
       "      <th></th>\n",
       "      <th></th>\n",
       "      <th></th>\n",
       "      <th></th>\n",
       "      <th></th>\n",
       "      <th></th>\n",
       "      <th></th>\n",
       "    </tr>\n",
       "  </thead>\n",
       "  <tbody>\n",
       "    <tr>\n",
       "      <th>Attrited Customer</th>\n",
       "      <td>1627</td>\n",
       "      <td>1627</td>\n",
       "      <td>1627</td>\n",
       "      <td>1627</td>\n",
       "      <td>1627</td>\n",
       "      <td>1627</td>\n",
       "      <td>1627</td>\n",
       "      <td>1627</td>\n",
       "      <td>1627</td>\n",
       "      <td>1627</td>\n",
       "      <td>1627</td>\n",
       "      <td>1627</td>\n",
       "      <td>1627</td>\n",
       "      <td>1627</td>\n",
       "      <td>1627</td>\n",
       "      <td>1627</td>\n",
       "      <td>1627</td>\n",
       "      <td>1627</td>\n",
       "      <td>1627</td>\n",
       "    </tr>\n",
       "    <tr>\n",
       "      <th>Existing Customer</th>\n",
       "      <td>8500</td>\n",
       "      <td>8500</td>\n",
       "      <td>8500</td>\n",
       "      <td>8500</td>\n",
       "      <td>8500</td>\n",
       "      <td>8500</td>\n",
       "      <td>8500</td>\n",
       "      <td>8500</td>\n",
       "      <td>8500</td>\n",
       "      <td>8500</td>\n",
       "      <td>8500</td>\n",
       "      <td>8500</td>\n",
       "      <td>8500</td>\n",
       "      <td>8500</td>\n",
       "      <td>8500</td>\n",
       "      <td>8500</td>\n",
       "      <td>8500</td>\n",
       "      <td>8500</td>\n",
       "      <td>8500</td>\n",
       "    </tr>\n",
       "  </tbody>\n",
       "</table>\n",
       "</div>"
      ],
      "text/plain": [
       "                   Customer_Age  Gender  Dependent_count  Education_Level  \\\n",
       "Attrition_Flag                                                              \n",
       "Attrited Customer          1627    1627             1627             1627   \n",
       "Existing Customer          8500    8500             8500             8500   \n",
       "\n",
       "                   Marital_Status  Income_Category  Card_Category  \\\n",
       "Attrition_Flag                                                      \n",
       "Attrited Customer            1627             1627           1627   \n",
       "Existing Customer            8500             8500           8500   \n",
       "\n",
       "                   Months_on_book  Total_Relationship_Count  \\\n",
       "Attrition_Flag                                                \n",
       "Attrited Customer            1627                      1627   \n",
       "Existing Customer            8500                      8500   \n",
       "\n",
       "                   Months_Inactive_12_mon  Contacts_Count_12_mon  \\\n",
       "Attrition_Flag                                                     \n",
       "Attrited Customer                    1627                   1627   \n",
       "Existing Customer                    8500                   8500   \n",
       "\n",
       "                   Credit_Limit  Total_Revolving_Bal  Avg_Open_To_Buy  \\\n",
       "Attrition_Flag                                                          \n",
       "Attrited Customer          1627                 1627             1627   \n",
       "Existing Customer          8500                 8500             8500   \n",
       "\n",
       "                   Total_Amt_Chng_Q4_Q1  Total_Trans_Amt  Total_Trans_Ct  \\\n",
       "Attrition_Flag                                                             \n",
       "Attrited Customer                  1627             1627            1627   \n",
       "Existing Customer                  8500             8500            8500   \n",
       "\n",
       "                   Total_Ct_Chng_Q4_Q1  Avg_Utilization_Ratio  \n",
       "Attrition_Flag                                                 \n",
       "Attrited Customer                 1627                   1627  \n",
       "Existing Customer                 8500                   8500  "
      ]
     },
     "execution_count": 8,
     "metadata": {},
     "output_type": "execute_result"
    }
   ],
   "source": [
    "df.groupby([\"Attrition_Flag\"]).count()"
   ]
  },
  {
   "cell_type": "code",
   "execution_count": 9,
   "id": "64dfce41",
   "metadata": {},
   "outputs": [
    {
     "data": {
      "text/plain": [
       "Attrition_Flag\n",
       "Existing Customer    8500\n",
       "Attrited Customer    1627\n",
       "Name: count, dtype: int64"
      ]
     },
     "execution_count": 9,
     "metadata": {},
     "output_type": "execute_result"
    }
   ],
   "source": [
    "df[\"Attrition_Flag\"].value_counts()"
   ]
  },
  {
   "cell_type": "code",
   "execution_count": 10,
   "id": "bd5524f1",
   "metadata": {
    "execution": {
     "iopub.execute_input": "2023-04-29T13:29:33.485637Z",
     "iopub.status.busy": "2023-04-29T13:29:33.485220Z",
     "iopub.status.idle": "2023-04-29T13:29:33.559629Z",
     "shell.execute_reply": "2023-04-29T13:29:33.558343Z"
    },
    "papermill": {
     "duration": 0.091931,
     "end_time": "2023-04-29T13:29:33.562112",
     "exception": false,
     "start_time": "2023-04-29T13:29:33.470181",
     "status": "completed"
    },
    "tags": []
   },
   "outputs": [
    {
     "data": {
      "text/html": [
       "<div>\n",
       "<style scoped>\n",
       "    .dataframe tbody tr th:only-of-type {\n",
       "        vertical-align: middle;\n",
       "    }\n",
       "\n",
       "    .dataframe tbody tr th {\n",
       "        vertical-align: top;\n",
       "    }\n",
       "\n",
       "    .dataframe thead th {\n",
       "        text-align: right;\n",
       "    }\n",
       "</style>\n",
       "<table border=\"1\" class=\"dataframe\">\n",
       "  <thead>\n",
       "    <tr style=\"text-align: right;\">\n",
       "      <th></th>\n",
       "      <th>Customer_Age</th>\n",
       "      <th>Dependent_count</th>\n",
       "      <th>Months_on_book</th>\n",
       "      <th>Total_Relationship_Count</th>\n",
       "      <th>Months_Inactive_12_mon</th>\n",
       "      <th>Contacts_Count_12_mon</th>\n",
       "      <th>Credit_Limit</th>\n",
       "      <th>Total_Revolving_Bal</th>\n",
       "      <th>Avg_Open_To_Buy</th>\n",
       "      <th>Total_Amt_Chng_Q4_Q1</th>\n",
       "      <th>Total_Trans_Amt</th>\n",
       "      <th>Total_Trans_Ct</th>\n",
       "      <th>Total_Ct_Chng_Q4_Q1</th>\n",
       "      <th>Avg_Utilization_Ratio</th>\n",
       "    </tr>\n",
       "  </thead>\n",
       "  <tbody>\n",
       "    <tr>\n",
       "      <th>count</th>\n",
       "      <td>10127.000000</td>\n",
       "      <td>10127.000000</td>\n",
       "      <td>10127.000000</td>\n",
       "      <td>10127.000000</td>\n",
       "      <td>10127.000000</td>\n",
       "      <td>10127.000000</td>\n",
       "      <td>10127.000000</td>\n",
       "      <td>10127.000000</td>\n",
       "      <td>10127.000000</td>\n",
       "      <td>10127.000000</td>\n",
       "      <td>10127.000000</td>\n",
       "      <td>10127.000000</td>\n",
       "      <td>10127.000000</td>\n",
       "      <td>10127.000000</td>\n",
       "    </tr>\n",
       "    <tr>\n",
       "      <th>mean</th>\n",
       "      <td>46.325960</td>\n",
       "      <td>2.346203</td>\n",
       "      <td>35.928409</td>\n",
       "      <td>3.812580</td>\n",
       "      <td>2.341167</td>\n",
       "      <td>2.455317</td>\n",
       "      <td>8631.953698</td>\n",
       "      <td>1162.814061</td>\n",
       "      <td>7469.139637</td>\n",
       "      <td>0.759941</td>\n",
       "      <td>4404.086304</td>\n",
       "      <td>64.858695</td>\n",
       "      <td>0.712222</td>\n",
       "      <td>0.274894</td>\n",
       "    </tr>\n",
       "    <tr>\n",
       "      <th>std</th>\n",
       "      <td>8.016814</td>\n",
       "      <td>1.298908</td>\n",
       "      <td>7.986416</td>\n",
       "      <td>1.554408</td>\n",
       "      <td>1.010622</td>\n",
       "      <td>1.106225</td>\n",
       "      <td>9088.776650</td>\n",
       "      <td>814.987335</td>\n",
       "      <td>9090.685324</td>\n",
       "      <td>0.219207</td>\n",
       "      <td>3397.129254</td>\n",
       "      <td>23.472570</td>\n",
       "      <td>0.238086</td>\n",
       "      <td>0.275691</td>\n",
       "    </tr>\n",
       "    <tr>\n",
       "      <th>min</th>\n",
       "      <td>26.000000</td>\n",
       "      <td>0.000000</td>\n",
       "      <td>13.000000</td>\n",
       "      <td>1.000000</td>\n",
       "      <td>0.000000</td>\n",
       "      <td>0.000000</td>\n",
       "      <td>1438.300000</td>\n",
       "      <td>0.000000</td>\n",
       "      <td>3.000000</td>\n",
       "      <td>0.000000</td>\n",
       "      <td>510.000000</td>\n",
       "      <td>10.000000</td>\n",
       "      <td>0.000000</td>\n",
       "      <td>0.000000</td>\n",
       "    </tr>\n",
       "    <tr>\n",
       "      <th>25%</th>\n",
       "      <td>41.000000</td>\n",
       "      <td>1.000000</td>\n",
       "      <td>31.000000</td>\n",
       "      <td>3.000000</td>\n",
       "      <td>2.000000</td>\n",
       "      <td>2.000000</td>\n",
       "      <td>2555.000000</td>\n",
       "      <td>359.000000</td>\n",
       "      <td>1324.500000</td>\n",
       "      <td>0.631000</td>\n",
       "      <td>2155.500000</td>\n",
       "      <td>45.000000</td>\n",
       "      <td>0.582000</td>\n",
       "      <td>0.023000</td>\n",
       "    </tr>\n",
       "    <tr>\n",
       "      <th>50%</th>\n",
       "      <td>46.000000</td>\n",
       "      <td>2.000000</td>\n",
       "      <td>36.000000</td>\n",
       "      <td>4.000000</td>\n",
       "      <td>2.000000</td>\n",
       "      <td>2.000000</td>\n",
       "      <td>4549.000000</td>\n",
       "      <td>1276.000000</td>\n",
       "      <td>3474.000000</td>\n",
       "      <td>0.736000</td>\n",
       "      <td>3899.000000</td>\n",
       "      <td>67.000000</td>\n",
       "      <td>0.702000</td>\n",
       "      <td>0.176000</td>\n",
       "    </tr>\n",
       "    <tr>\n",
       "      <th>75%</th>\n",
       "      <td>52.000000</td>\n",
       "      <td>3.000000</td>\n",
       "      <td>40.000000</td>\n",
       "      <td>5.000000</td>\n",
       "      <td>3.000000</td>\n",
       "      <td>3.000000</td>\n",
       "      <td>11067.500000</td>\n",
       "      <td>1784.000000</td>\n",
       "      <td>9859.000000</td>\n",
       "      <td>0.859000</td>\n",
       "      <td>4741.000000</td>\n",
       "      <td>81.000000</td>\n",
       "      <td>0.818000</td>\n",
       "      <td>0.503000</td>\n",
       "    </tr>\n",
       "    <tr>\n",
       "      <th>max</th>\n",
       "      <td>73.000000</td>\n",
       "      <td>5.000000</td>\n",
       "      <td>56.000000</td>\n",
       "      <td>6.000000</td>\n",
       "      <td>6.000000</td>\n",
       "      <td>6.000000</td>\n",
       "      <td>34516.000000</td>\n",
       "      <td>2517.000000</td>\n",
       "      <td>34516.000000</td>\n",
       "      <td>3.397000</td>\n",
       "      <td>18484.000000</td>\n",
       "      <td>139.000000</td>\n",
       "      <td>3.714000</td>\n",
       "      <td>0.999000</td>\n",
       "    </tr>\n",
       "  </tbody>\n",
       "</table>\n",
       "</div>"
      ],
      "text/plain": [
       "       Customer_Age  Dependent_count  Months_on_book  \\\n",
       "count  10127.000000     10127.000000    10127.000000   \n",
       "mean      46.325960         2.346203       35.928409   \n",
       "std        8.016814         1.298908        7.986416   \n",
       "min       26.000000         0.000000       13.000000   \n",
       "25%       41.000000         1.000000       31.000000   \n",
       "50%       46.000000         2.000000       36.000000   \n",
       "75%       52.000000         3.000000       40.000000   \n",
       "max       73.000000         5.000000       56.000000   \n",
       "\n",
       "       Total_Relationship_Count  Months_Inactive_12_mon  \\\n",
       "count              10127.000000            10127.000000   \n",
       "mean                   3.812580                2.341167   \n",
       "std                    1.554408                1.010622   \n",
       "min                    1.000000                0.000000   \n",
       "25%                    3.000000                2.000000   \n",
       "50%                    4.000000                2.000000   \n",
       "75%                    5.000000                3.000000   \n",
       "max                    6.000000                6.000000   \n",
       "\n",
       "       Contacts_Count_12_mon  Credit_Limit  Total_Revolving_Bal  \\\n",
       "count           10127.000000  10127.000000         10127.000000   \n",
       "mean                2.455317   8631.953698          1162.814061   \n",
       "std                 1.106225   9088.776650           814.987335   \n",
       "min                 0.000000   1438.300000             0.000000   \n",
       "25%                 2.000000   2555.000000           359.000000   \n",
       "50%                 2.000000   4549.000000          1276.000000   \n",
       "75%                 3.000000  11067.500000          1784.000000   \n",
       "max                 6.000000  34516.000000          2517.000000   \n",
       "\n",
       "       Avg_Open_To_Buy  Total_Amt_Chng_Q4_Q1  Total_Trans_Amt  Total_Trans_Ct  \\\n",
       "count     10127.000000          10127.000000     10127.000000    10127.000000   \n",
       "mean       7469.139637              0.759941      4404.086304       64.858695   \n",
       "std        9090.685324              0.219207      3397.129254       23.472570   \n",
       "min           3.000000              0.000000       510.000000       10.000000   \n",
       "25%        1324.500000              0.631000      2155.500000       45.000000   \n",
       "50%        3474.000000              0.736000      3899.000000       67.000000   \n",
       "75%        9859.000000              0.859000      4741.000000       81.000000   \n",
       "max       34516.000000              3.397000     18484.000000      139.000000   \n",
       "\n",
       "       Total_Ct_Chng_Q4_Q1  Avg_Utilization_Ratio  \n",
       "count         10127.000000           10127.000000  \n",
       "mean              0.712222               0.274894  \n",
       "std               0.238086               0.275691  \n",
       "min               0.000000               0.000000  \n",
       "25%               0.582000               0.023000  \n",
       "50%               0.702000               0.176000  \n",
       "75%               0.818000               0.503000  \n",
       "max               3.714000               0.999000  "
      ]
     },
     "execution_count": 10,
     "metadata": {},
     "output_type": "execute_result"
    }
   ],
   "source": [
    "df.describe()"
   ]
  },
  {
   "cell_type": "code",
   "execution_count": 14,
   "id": "cdc600c4",
   "metadata": {},
   "outputs": [
    {
     "name": "stdout",
     "output_type": "stream",
     "text": [
      "Marital_Status\n",
      "Married     4687\n",
      "Single      3943\n",
      "Unknown      749\n",
      "Divorced     748\n",
      "Name: count, dtype: int64\n"
     ]
    }
   ],
   "source": [
    "#Numero de clientes casados\n",
    "counts_marital = df.Marital_Status.value_counts()\n",
    "print(counts_marital)"
   ]
  },
  {
   "cell_type": "code",
   "execution_count": 17,
   "id": "b8bde90b",
   "metadata": {},
   "outputs": [
    {
     "name": "stdout",
     "output_type": "stream",
     "text": [
      "Porcentaje de clientes casados es = 46.3%\n"
     ]
    }
   ],
   "source": [
    "porcentaje_casados=(counts_marital.iloc[0]/(counts_marital.iloc [0]+counts_marital.iloc [1]+counts_marital.iloc [2]+counts_marital.iloc [3]))*100\n",
    "print(f\"Porcentaje de clientes casados es = {porcentaje_casados:.1f}%\")"
   ]
  },
  {
   "cell_type": "code",
   "execution_count": 11,
   "id": "d0cb1e7d",
   "metadata": {
    "execution": {
     "iopub.execute_input": "2023-04-29T13:29:33.592783Z",
     "iopub.status.busy": "2023-04-29T13:29:33.591751Z",
     "iopub.status.idle": "2023-04-29T13:29:33.623691Z",
     "shell.execute_reply": "2023-04-29T13:29:33.622299Z"
    },
    "papermill": {
     "duration": 0.050668,
     "end_time": "2023-04-29T13:29:33.626754",
     "exception": false,
     "start_time": "2023-04-29T13:29:33.576086",
     "status": "completed"
    },
    "tags": []
   },
   "outputs": [
    {
     "name": "stdout",
     "output_type": "stream",
     "text": [
      "Churn Rate = 16.1%\n"
     ]
    }
   ],
   "source": [
    "# número de clientes perdido y no perdidosn\n",
    "counts = df.Attrition_Flag.value_counts()\n",
    "perc_churn = (counts.iloc[1] / (counts.iloc[0] + counts.iloc[1])) * 100\n",
    "print(f'Churn Rate = {perc_churn:.1f}%')"
   ]
  },
  {
   "cell_type": "code",
   "execution_count": 11,
   "id": "9c9b6978",
   "metadata": {
    "execution": {
     "iopub.execute_input": "2023-04-29T13:29:33.656790Z",
     "iopub.status.busy": "2023-04-29T13:29:33.656369Z",
     "iopub.status.idle": "2023-04-29T13:29:33.665202Z",
     "shell.execute_reply": "2023-04-29T13:29:33.663940Z"
    },
    "papermill": {
     "duration": 0.027655,
     "end_time": "2023-04-29T13:29:33.668416",
     "exception": false,
     "start_time": "2023-04-29T13:29:33.640761",
     "status": "completed"
    },
    "tags": []
   },
   "outputs": [
    {
     "name": "stdout",
     "output_type": "stream",
     "text": [
      "Number of Duplicate Entries: 0\n"
     ]
    }
   ],
   "source": [
    "# número de duplicados\n",
    "duplicates = len(df[df.duplicated()])\n",
    "print(f'Number of Duplicate Entries: {duplicates}')"
   ]
  },
  {
   "cell_type": "code",
   "execution_count": 12,
   "id": "08cb1c04",
   "metadata": {},
   "outputs": [
    {
     "name": "stdout",
     "output_type": "stream",
     "text": [
      "Number of Missing Values: 0\n"
     ]
    }
   ],
   "source": [
    "# número de valores perdidos\n",
    "missing_values = df.isnull().sum().sum()\n",
    "print(f'Number of Missing Values: {missing_values}')"
   ]
  },
  {
   "cell_type": "code",
   "execution_count": 13,
   "id": "e7522be8",
   "metadata": {},
   "outputs": [
    {
     "name": "stdout",
     "output_type": "stream",
     "text": [
      "Number of Features: 20\n",
      "Number of Customers: 10127\n",
      "Data Types and Frequency in Dataset:\n",
      "int64      9\n",
      "object     6\n",
      "float64    5\n",
      "Name: count, dtype: int64\n"
     ]
    }
   ],
   "source": [
    "# Tipos de datos en el dataset\n",
    "types = df.dtypes.value_counts()\n",
    "\n",
    "print('Number of Features: %d'%(df.shape[1]))\n",
    "print('Number of Customers: %d'%(df.shape[0]))\n",
    "print('Data Types and Frequency in Dataset:')\n",
    "print(types)"
   ]
  },
  {
   "cell_type": "markdown",
   "id": "0d9f525f",
   "metadata": {
    "papermill": {
     "duration": 0.020854,
     "end_time": "2023-04-29T13:29:37.075271",
     "exception": false,
     "start_time": "2023-04-29T13:29:37.054417",
     "status": "completed"
    },
    "tags": []
   },
   "source": [
    "## Pre-Processing"
   ]
  },
  {
   "cell_type": "code",
   "execution_count": 14,
   "id": "9ba36a48",
   "metadata": {
    "execution": {
     "iopub.execute_input": "2023-04-29T13:29:37.118344Z",
     "iopub.status.busy": "2023-04-29T13:29:37.117891Z",
     "iopub.status.idle": "2023-04-29T13:29:37.215869Z",
     "shell.execute_reply": "2023-04-29T13:29:37.214861Z"
    },
    "papermill": {
     "duration": 0.122753,
     "end_time": "2023-04-29T13:29:37.218672",
     "exception": false,
     "start_time": "2023-04-29T13:29:37.095919",
     "status": "completed"
    },
    "tags": []
   },
   "outputs": [],
   "source": [
    "# Conversión de características\n",
    "df['Gender'] = df['Gender'].map({'M': 1, 'F': 0})\n",
    "df['Attrition_Flag'] = df['Attrition_Flag'].map({'Attrited Customer': 1, 'Existing Customer': 0})"
   ]
  },
  {
   "cell_type": "code",
   "execution_count": 15,
   "id": "1f45060c",
   "metadata": {},
   "outputs": [
    {
     "name": "stdout",
     "output_type": "stream",
     "text": [
      "New Number of Features: 37\n"
     ]
    }
   ],
   "source": [
    "catcols = df.select_dtypes(exclude = ['int64','float64']).columns\n",
    "intcols = df.select_dtypes(include = ['int64']).columns\n",
    "floatcols = df.select_dtypes(include = ['float64']).columns\n",
    "\n",
    "# codificación \n",
    "df = pd.get_dummies(df, columns = catcols)\n",
    "   \n",
    "print('New Number of Features: %d'%(df.shape[1]))  "
   ]
  },
  {
   "cell_type": "code",
   "execution_count": 20,
   "id": "656283d6",
   "metadata": {},
   "outputs": [],
   "source": [
    "import matplotlib.pyplot as plt\n",
    "import seaborn as sns"
   ]
  },
  {
   "cell_type": "code",
   "execution_count": 21,
   "id": "78359b7f",
   "metadata": {},
   "outputs": [
    {
     "data": {
      "text/plain": [
       "<Figure size 800x600 with 0 Axes>"
      ]
     },
     "execution_count": 21,
     "metadata": {},
     "output_type": "execute_result"
    },
    {
     "data": {
      "text/plain": [
       "<Figure size 800x600 with 0 Axes>"
      ]
     },
     "metadata": {},
     "output_type": "display_data"
    }
   ],
   "source": [
    "\n",
    "plt.figure(figsize=(8, 6))"
   ]
  },
  {
   "cell_type": "code",
   "execution_count": 22,
   "id": "260c7229",
   "metadata": {},
   "outputs": [
    {
     "data": {
      "text/plain": [
       "Text(0.5, 1.0, 'Boxplot of Age by Attrition Flag')"
      ]
     },
     "execution_count": 22,
     "metadata": {},
     "output_type": "execute_result"
    },
    {
     "data": {
      "image/png": "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",
      "text/plain": [
       "<Figure size 640x480 with 1 Axes>"
      ]
     },
     "metadata": {},
     "output_type": "display_data"
    }
   ],
   "source": [
    "sns.boxplot(data=df, x='Attrition_Flag', y='Customer_Age')\n",
    "plt.title('Boxplot of Age by Attrition Flag')"
   ]
  },
  {
   "cell_type": "code",
   "execution_count": null,
   "id": "3c501e08",
   "metadata": {},
   "outputs": [],
   "source": [
    "sns.boxplot(data=df, x='Education_Level', y='Customer_Age')\n",
    "plt.title('Boxplot of Age by Education Level')"
   ]
  },
  {
   "cell_type": "code",
   "execution_count": 23,
   "id": "110ac60c",
   "metadata": {},
   "outputs": [],
   "source": [
    "conteo_niveles = df['Education_Level'].value_counts()\n"
   ]
  },
  {
   "cell_type": "code",
   "execution_count": 24,
   "id": "9af1e5fb",
   "metadata": {},
   "outputs": [
    {
     "name": "stderr",
     "output_type": "stream",
     "text": [
      "C:\\Users\\evivas\\AppData\\Local\\Temp\\ipykernel_4264\\1705625685.py:3: FutureWarning: \n",
      "\n",
      "Passing `palette` without assigning `hue` is deprecated and will be removed in v0.14.0. Assign the `x` variable to `hue` and set `legend=False` for the same effect.\n",
      "\n",
      "  sns.barplot(x=conteo_niveles.index, y=conteo_niveles.values, palette='viridis')\n"
     ]
    },
    {
     "data": {
      "image/png": "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",
      "text/plain": [
       "<Figure size 800x600 with 1 Axes>"
      ]
     },
     "metadata": {},
     "output_type": "display_data"
    }
   ],
   "source": [
    "# Crear un diagrama de barras\n",
    "plt.figure(figsize=(8, 6))\n",
    "sns.barplot(x=conteo_niveles.index, y=conteo_niveles.values, palette='viridis')\n",
    "\n",
    "# Personalizar el gráfico\n",
    "plt.title('Distribución de Nivel Educativo')\n",
    "plt.xlabel('Nivel Educativo')\n",
    "plt.ylabel('Frecuencia')\n",
    "plt.xticks(rotation=45)\n",
    "\n",
    "# Mostrar el gráfico\n",
    "plt.show()"
   ]
  }
 ],
 "metadata": {
  "kernelspec": {
   "display_name": "Python 3",
   "language": "python",
   "name": "python3"
  },
  "language_info": {
   "codemirror_mode": {
    "name": "ipython",
    "version": 3
   },
   "file_extension": ".py",
   "mimetype": "text/x-python",
   "name": "python",
   "nbconvert_exporter": "python",
   "pygments_lexer": "ipython3",
   "version": "3.11.5"
  },
  "papermill": {
   "default_parameters": {},
   "duration": 148.559691,
   "end_time": "2023-04-29T13:31:48.779871",
   "environment_variables": {},
   "exception": null,
   "input_path": "__notebook__.ipynb",
   "output_path": "__notebook__.ipynb",
   "parameters": {},
   "start_time": "2023-04-29T13:29:20.220180",
   "version": "2.4.0"
  }
 },
 "nbformat": 4,
 "nbformat_minor": 5
}

#crear boxplot Customer Age

df2=df
data1 = df2["Customer_Age"]

plt.boxplot(data1) 
plt.title("Selling_Price") 
plt.show()
